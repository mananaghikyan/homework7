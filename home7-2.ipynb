{
 "cells": [
  {
   "cell_type": "code",
   "execution_count": 41,
   "metadata": {
    "collapsed": true
   },
   "outputs": [],
   "source": [
    "from selenium import webdriver\n",
    "from selenium.webdriver.support.ui import Select\n",
    "from time import*\n",
    "from BeautifulSoup import * \n",
    "import requests\n",
    "browser = webdriver.Chrome()\n",
    "url = \"https://staff.am/en\"\n",
    "browser.get(url)\n",
    "from BeautifulSoup import *\n",
    "first=browser.find_element_by_xpath('//*[@id=\"menu-header\"]/li[2]/a')\n",
    "first.click()\n",
    "soup = browser.page_source"
   ]
  },
  {
   "cell_type": "code",
   "execution_count": 42,
   "metadata": {},
   "outputs": [],
   "source": [
    "nextpage = browser.find_element_by_xpath('//*[@id=\"job-list-pagination\"]/ul/li[3]/a')\n",
    "nextpage.click()\n",
    "soup_1=browser.page_source\n",
    "nextpage1 = browser.find_element_by_xpath('//*[@id=\"job-list-pagination\"]/ul/li[4]/a')\n",
    "nextpage1.click()\n",
    "soup_2=browser.page_source\n",
    "browser.close()"
   ]
  },
  {
   "cell_type": "code",
   "execution_count": 43,
   "metadata": {},
   "outputs": [],
   "source": [
    "data=[]\n",
    "soups=[soup,soup_1,soup_2]\n",
    "for i in soups:\n",
    "    soup = BeautifulSoup(i)\n",
    "    titls=soup.findAll('div',attrs={'class':\"job-inner training-item-title\"})    \n",
    "    for i in titls:\n",
    "        if i.find('span')==None:\n",
    "            data.append(i.find('h4').text +\" - \" +i.find('p').text + \"- \"+ \"0 AMD\")\n",
    "        else:\n",
    "            data.append(i.find('h4').text +\" - \" +i.find('p').text + \"- \"+ i.find('span').text + \" AMD\")"
   ]
  },
  {
   "cell_type": "code",
   "execution_count": 44,
   "metadata": {},
   "outputs": [
    {
     "data": {
      "text/plain": [
       "[u'The Complete Cyber Security Course : Hackers Exposed! - Udemy- 57,500 AMD',\n",
       " u'Content Strategy for Professionals: Managing Content - Coursera- 0 AMD',\n",
       " u'\\u0556\\u0540\\u0544\\u054d \\u0533\\u0548\\u0550\\u053e\\u0548\\u0542 \\u0544\\u0531\\u054d\\u0546\\u0531\\u0533\\u0535\\u054f\\u0546\\u0535\\u0550\\u053b \\u0540\\u0531\\u0544\\u0531\\u0550, \\u0544\\u0548\\u0534\\u0548\\u0552\\u053c 2 - IAB International Academy of Business- 84,000 AMD',\n",
       " u'Advanced Course on Value Added Tax VAT for Professionals - IAB International Academy of Business- 48,000 AMD',\n",
       " u'Effective selling skills - IAB International Academy of Business- 50,000 AMD',\n",
       " u'UI/UX Design - Microsoft Innovation Center- 69,000 AMD',\n",
       " u'Sales Strategies: Mastering the Selling Process - Coursera- 0 AMD',\n",
       " u'Software Product Management Specialization - Coursera- 0 AMD',\n",
       " u'Digital Analytics for Marketing Professionals: Marketing Analytics in Practice - Coursera- 0 AMD',\n",
       " u'Principles of Machine Learning - edX- 0 AMD',\n",
       " u'Introduction to User Experience Design - Coursera- 0 AMD',\n",
       " u'Data Science Essentials - edX- 0 AMD',\n",
       " u'Data Science Specialization - Coursera- 0 AMD',\n",
       " u'C#, Level 2 - Object-Oriented Programming - Microsoft Innovation Center- 73,000 AMD',\n",
       " u'C#, Level I - Microsoft Innovation Center- 52,000 AMD',\n",
       " u'QA Expert :Software Testing + Bugzilla + SQL + Agile+ Unix - Udemy- 96,000 AMD',\n",
       " u'Event Manager Preparation - Quick Start- 45,000 AMD',\n",
       " u'The Complete Digital Marketing Course 2017 - Udemy- 96,000 AMD',\n",
       " u'PROJECT MANAGEMENT PROFESSIONAL (PMP)\\xae CERTIFICATION EXAM PREP COURSE - AUA Extension- 125,000 AMD',\n",
       " u'Complete Java Masterclass - Udemy- 4,800 AMD',\n",
       " u'Business English Specialization - Coursera- 0 AMD',\n",
       " u'IT Project Management - Coursera- 0 AMD',\n",
       " u'Preparing to Manage Human Resources - Coursera- 0 AMD']"
      ]
     },
     "execution_count": 44,
     "metadata": {},
     "output_type": "execute_result"
    }
   ],
   "source": [
    "data"
   ]
  },
  {
   "cell_type": "code",
   "execution_count": 45,
   "metadata": {
    "collapsed": true
   },
   "outputs": [],
   "source": [
    "z=str(data)"
   ]
  },
  {
   "cell_type": "code",
   "execution_count": 46,
   "metadata": {},
   "outputs": [
    {
     "name": "stdout",
     "output_type": "stream",
     "text": [
      "['57500', '0', '84000', '48000', '50000', '69000', '0', '0', '0', '0', '0', '0', '0', '73000', '52000', '96000', '45000', '96000', '125000', '4800', '0', '0', '0']\n"
     ]
    }
   ],
   "source": [
    "import re\n",
    "xz=re.sub(r',', r'',z)\n",
    "zx=re.findall('-\\s([0-9]+)',xz)\n",
    "\n",
    "print(zx)"
   ]
  },
  {
   "cell_type": "code",
   "execution_count": 47,
   "metadata": {
    "collapsed": true
   },
   "outputs": [],
   "source": [
    "prices=[]\n",
    "for i in zx:\n",
    "    prices.append(int(i))"
   ]
  },
  {
   "cell_type": "code",
   "execution_count": 49,
   "metadata": {},
   "outputs": [
    {
     "data": {
      "text/plain": [
       "[57500,\n",
       " 0,\n",
       " 84000,\n",
       " 48000,\n",
       " 50000,\n",
       " 69000,\n",
       " 0,\n",
       " 0,\n",
       " 0,\n",
       " 0,\n",
       " 0,\n",
       " 0,\n",
       " 0,\n",
       " 73000,\n",
       " 52000,\n",
       " 96000,\n",
       " 45000,\n",
       " 96000,\n",
       " 125000,\n",
       " 4800,\n",
       " 0,\n",
       " 0,\n",
       " 0]"
      ]
     },
     "execution_count": 49,
     "metadata": {},
     "output_type": "execute_result"
    }
   ],
   "source": [
    "prices"
   ]
  },
  {
   "cell_type": "code",
   "execution_count": 50,
   "metadata": {
    "collapsed": true
   },
   "outputs": [],
   "source": [
    "av_price=sum(prices)/len(prices)"
   ]
  },
  {
   "cell_type": "code",
   "execution_count": 52,
   "metadata": {},
   "outputs": [
    {
     "data": {
      "text/plain": [
       "34795"
      ]
     },
     "execution_count": 52,
     "metadata": {},
     "output_type": "execute_result"
    }
   ],
   "source": [
    "av_price"
   ]
  },
  {
   "cell_type": "code",
   "execution_count": null,
   "metadata": {
    "collapsed": true
   },
   "outputs": [],
   "source": []
  }
 ],
 "metadata": {
  "kernelspec": {
   "display_name": "Python 2",
   "language": "python",
   "name": "python2"
  },
  "language_info": {
   "codemirror_mode": {
    "name": "ipython",
    "version": 2
   },
   "file_extension": ".py",
   "mimetype": "text/x-python",
   "name": "python",
   "nbconvert_exporter": "python",
   "pygments_lexer": "ipython2",
   "version": "2.7.13"
  }
 },
 "nbformat": 4,
 "nbformat_minor": 2
}
